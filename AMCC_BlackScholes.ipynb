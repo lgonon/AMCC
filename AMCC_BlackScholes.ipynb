{
  "cells": [
    {
      "cell_type": "markdown",
      "metadata": {
        "id": "v99N6UVGME0c"
      },
      "source": [
        "# Monte Carlo Calibration via Deep Learning\n",
        "\n",
        "## Sample code to illustrate AMCC in a Black-Scholes model"
      ]
    },
    {
      "cell_type": "code",
      "execution_count": null,
      "metadata": {
        "id": "kgDBZAQ_AMT1"
      },
      "outputs": [],
      "source": [
        "import torch\n",
        "import numpy as np\n",
        "from torch.distributions import Normal"
      ]
    },
    {
      "cell_type": "markdown",
      "metadata": {
        "id": "ExDZjjaTME0f"
      },
      "source": [
        "A first step for AMCC consists in implementing the forward simulation scheme of the underlying market model. In the Black-Scholes model we could directly use the closed-form expression (see equation (1) in the paper). Here we compute the log-prices iteratively, in order to create the link to more complex models."
      ]
    },
    {
      "cell_type": "code",
      "execution_count": null,
      "metadata": {
        "id": "8iI6fCTpVAvJ"
      },
      "outputs": [],
      "source": [
        "def simulated_paths_new(states_in,path_bm,vol,maturity,drift):\n",
        "    '''\n",
        "    Generate sample paths of a Black-Scholes model for given initial states (states_in),\n",
        "    Brownian paths (path_bm), volatility, maturity and drift.\n",
        "    '''\n",
        "    vec_dim = path_bm.shape\n",
        "    time_steps = vec_dim[1]\n",
        "    h = maturity/time_steps\n",
        "    log_states = torch.log(states_in)\n",
        "\n",
        "    for i in range(time_steps):\n",
        "\n",
        "        brownian_incr = path_bm[:,i]\n",
        "        log_states  = log_states + (drift-0.5*vol**2)*h+vol*brownian_incr\n",
        "\n",
        "    return torch.exp(log_states)"
      ]
    },
    {
      "cell_type": "markdown",
      "metadata": {
        "id": "AJQ70uwvME0h"
      },
      "source": [
        "Next we implement the Monte Carlo pricing function (see equation (1) in the paper). We implement antithetic sampling to reduce the number of required samples."
      ]
    },
    {
      "cell_type": "code",
      "execution_count": null,
      "metadata": {
        "id": "m1cZpOJpChBq"
      },
      "outputs": [],
      "source": [
        "def payoff(strikes,samples):\n",
        "    '''\n",
        "    Evaluate call option payoff on given input samples and for given strikes\n",
        "    '''\n",
        "    diff_tmp = samples.reshape(-1,1)-strikes\n",
        "    diff_tmp [diff_tmp  < 0] = 0\n",
        "\n",
        "    return diff_tmp\n",
        "\n",
        "def BS_monte_carlo_price(strikes,samples,samples_anti):\n",
        "    '''\n",
        "    Compute Monte Carlo price for given strikes, samples and associated antithetic samples\n",
        "    '''\n",
        "    price = torch.mean(torch.transpose(payoff(strikes,samples),0,1),dim=1)\n",
        "    price_anti = torch.mean(torch.transpose(payoff(strikes,samples_anti),0,1),dim=1)\n",
        "\n",
        "    return (price+price_anti)/2"
      ]
    },
    {
      "cell_type": "markdown",
      "metadata": {
        "id": "vpi-drMrCRmt"
      },
      "source": [
        "Next, we implement the Monte Carlo pricing loss in torch and optimize over the volatility parameter. The working principle is the same as when training neural networks. However, no neural networks explicitly appear here."
      ]
    },
    {
      "cell_type": "code",
      "execution_count": null,
      "metadata": {
        "id": "p20JB-34ED9O"
      },
      "outputs": [],
      "source": [
        "def AMCC_optim(strikes,call_prices,vol,iter_numb,learning_rate,maturity,batch_size,time_steps,drift,S0):\n",
        "    '''\n",
        "    Implements AMCC for \"market\" call prices with given strikes to calibrate\n",
        "    the vol parameter in a Black Scholes model for given drift and initial value S0.\n",
        "    Parameter optimization is performed using Adam optimizer for iter_numb iterations, with specified\n",
        "    learning_rate and batch_size.\n",
        "    '''\n",
        "    vol.requires_grad = True\n",
        "    optimizer = torch.optim.Adam([vol], lr=learning_rate)\n",
        "    h = maturity/time_steps\n",
        "\n",
        "    for itr in range(iter_numb):\n",
        "\n",
        "        init_state  = torch.ones(batch_size)*S0\n",
        "        paths_bm = torch.normal(0, 1, (batch_size,time_steps))*torch.sqrt(h)\n",
        "\n",
        "        samples = simulated_paths_new(init_state,paths_bm,vol,maturity,drift)\n",
        "        samples_anti = simulated_paths_new(init_state,-paths_bm,vol,maturity,drift)\n",
        "\n",
        "        model_prices = BS_monte_carlo_price(strikes,samples,samples_anti)\n",
        "        loss =torch.mean((model_prices - call_prices)**2,dim=1)\n",
        "\n",
        "        optimizer.zero_grad()\n",
        "        loss.backward()\n",
        "        optimizer.step()\n",
        "\n",
        "        if itr%100==0:\n",
        "            print(\"Epoch number: {} and the loss : {}\".format(itr,loss.item()))\n",
        "\n",
        "    return vol"
      ]
    },
    {
      "cell_type": "code",
      "execution_count": null,
      "metadata": {
        "id": "3iI6DSe0H01S"
      },
      "outputs": [],
      "source": [
        "std_norm_cdf = Normal(0, 1).cdf\n",
        "std_norm_pdf = lambda x: torch.exp(Normal(0, 1).log_prob(x))\n",
        "\n",
        "def bs_price(K, S, T, sigma, r):\n",
        "    d_1 = (1 / (sigma * torch.sqrt(T))) * (torch.log(S / K) + (r + (torch.square(sigma) / 2)) * T)\n",
        "    d_2 = d_1 - sigma * torch.sqrt(T)\n",
        "\n",
        "    C = std_norm_cdf(d_1) * S - std_norm_cdf(d_2) * K * torch.exp(-r * T)\n",
        "    return C\n"
      ]
    },
    {
      "cell_type": "markdown",
      "metadata": {
        "id": "YvBQ_J1-ME0k"
      },
      "source": [
        "We illustrate the use of AMCC in a simple example. We generate artificial strikes and \"market prices\" from a Black-Scholes model with given *true* volatility 0.05.\n",
        "\n",
        "Then we use AMCC to calibrate a Black-Scholes model (with a different initial volatility 0.01) to these option prices."
      ]
    },
    {
      "cell_type": "code",
      "execution_count": null,
      "metadata": {
        "colab": {
          "base_uri": "https://localhost:8080/"
        },
        "id": "7QEFBHkZGMqy",
        "outputId": "8fb802e8-76f5-4675-ea7b-860e0296efa1"
      },
      "outputs": [
        {
          "output_type": "stream",
          "name": "stdout",
          "text": [
            "Epoch number: 0 and the loss : 0.6027946472167969\n",
            "Epoch number: 100 and the loss : 0.408104807138443\n",
            "Epoch number: 200 and the loss : 0.19724467396736145\n",
            "Epoch number: 300 and the loss : 0.06861528009176254\n",
            "Epoch number: 400 and the loss : 0.016503578051924706\n",
            "Epoch number: 500 and the loss : 0.0025018430314958096\n",
            "Epoch number: 600 and the loss : 4.382756378618069e-05\n",
            "Epoch number: 700 and the loss : 5.193680408410728e-05\n",
            "Epoch number: 800 and the loss : 7.376016583293676e-05\n",
            "Epoch number: 900 and the loss : 6.839663456048584e-06\n",
            "Epoch number: 1000 and the loss : 1.3728128578804899e-05\n",
            "Epoch number: 1100 and the loss : 1.0675019439077005e-05\n",
            "Epoch number: 1200 and the loss : 0.00015044597967062145\n",
            "Epoch number: 1300 and the loss : 1.7297246813541278e-05\n",
            "Epoch number: 1400 and the loss : 1.1005980923073366e-05\n",
            "Epoch number: 1500 and the loss : 8.312280442623887e-06\n",
            "Epoch number: 1600 and the loss : 1.4867769095872063e-05\n",
            "Epoch number: 1700 and the loss : 4.59264174423879e-06\n",
            "Epoch number: 1800 and the loss : 4.120924131711945e-05\n",
            "Epoch number: 1900 and the loss : 2.0604891233233502e-06\n"
          ]
        }
      ],
      "source": [
        "# Black Scholes model specifications\n",
        "S0 = 100.\n",
        "drift = torch.tensor(0.00)\n",
        "# True vol:\n",
        "vol_true = torch.tensor(0.05)\n",
        "# Starting point for vol calibration\n",
        "vol = torch.tensor(0.01)\n",
        "\n",
        "# Generate artificial price data: 20 options with different strikes\n",
        "maturity = torch.tensor(1.)\n",
        "time_steps = 5\n",
        "numb_strikes = 20\n",
        "strikes_test = torch.zeros(1,numb_strikes)\n",
        "# Select strikes\n",
        "for i in range(numb_strikes):\n",
        "    strikes_test[0,i] = 95 + i*1\n",
        "# Compute Black-Scholes price for each strike\n",
        "call_prices = torch.zeros(1,numb_strikes)\n",
        "for i in range(numb_strikes):\n",
        "    call_prices[0,i] = bs_price(strikes_test[0,i], S0, maturity, vol_true, drift)\n",
        "\n",
        "# Now we do Monte Carlo calibration and try to recover vol_true\n",
        "iter_numb = 2000\n",
        "learning_rate = 0.0001\n",
        "batch_size = 30000\n",
        "vol_calibrated = AMCC_optim(strikes_test,call_prices,vol,iter_numb,learning_rate,maturity,batch_size,time_steps,drift,S0)"
      ]
    },
    {
      "cell_type": "code",
      "execution_count": null,
      "metadata": {
        "colab": {
          "base_uri": "https://localhost:8080/"
        },
        "id": "XGEgXXjkh_aL",
        "outputId": "e2ff1c03-d3e7-4e84-f1cc-4442e824343c"
      },
      "outputs": [
        {
          "output_type": "stream",
          "name": "stdout",
          "text": [
            "tensor(0.050004, requires_grad=True)\n"
          ]
        }
      ],
      "source": [
        "torch.set_printoptions(precision=6)\n",
        "print(vol_calibrated)"
      ]
    },
    {
      "cell_type": "markdown",
      "source": [
        "We started from initial volatility 0.01, but obtained a calibrated volatility parameter that is very close to the true value (0.05)."
      ],
      "metadata": {
        "id": "_nOZMZpPMcXe"
      }
    },
    {
      "cell_type": "code",
      "source": [],
      "metadata": {
        "id": "ETiTYoynMqlN"
      },
      "execution_count": null,
      "outputs": []
    }
  ],
  "metadata": {
    "colab": {
      "provenance": []
    },
    "kernelspec": {
      "display_name": "Python 3 (ipykernel)",
      "language": "python",
      "name": "python3"
    },
    "language_info": {
      "codemirror_mode": {
        "name": "ipython",
        "version": 3
      },
      "file_extension": ".py",
      "mimetype": "text/x-python",
      "name": "python",
      "nbconvert_exporter": "python",
      "pygments_lexer": "ipython3",
      "version": "3.8.13"
    }
  },
  "nbformat": 4,
  "nbformat_minor": 0
}